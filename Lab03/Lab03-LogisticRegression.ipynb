{
 "cells": [
  {
   "cell_type": "markdown",
   "metadata": {},
   "source": [
    "# Lab03: Logistic Regression.\n",
    "\n",
    "- Student ID: 21127113\n",
    "- Student name: Dinh Duong Hai Nam"
   ]
  },
  {
   "cell_type": "markdown",
   "metadata": {},
   "source": [
    "**How to do your homework**\n",
    "\n",
    "\n",
    "You will work directly on this notebook; the word `TODO` indicate the parts you need to do.\n",
    "\n",
    "You can discuss ideas with classmates as well as finding information from the internet, book, etc...; but *this homework must be your*.\n",
    "\n",
    "**How to submit your homework**\n",
    "\n",
    "Before submitting, rerun the notebook (`Kernel` ->` Restart & Run All`).\n",
    "\n",
    "Then create a folder named `ID` (for example, if your ID is 1234567, then name the folder `1234567`). Copy file notebook to this folder, compress and submit it on moodle.\n",
    "\n",
    "**Contents:**\n",
    "- Logistic Regression."
   ]
  },
  {
   "cell_type": "markdown",
   "metadata": {},
   "source": [
    "## 1. Feature Extraction"
   ]
  },
  {
   "cell_type": "markdown",
   "metadata": {},
   "source": [
    "### Import Library"
   ]
  },
  {
   "cell_type": "code",
   "execution_count": 1,
   "metadata": {},
   "outputs": [],
   "source": [
    "%matplotlib inline\n",
    "import numpy as np\n",
    "import matplotlib.pyplot as plt\n",
    "from sklearn.model_selection import train_test_split\n",
    "from sklearn.metrics import classification_report\n",
    "import pandas as pd"
   ]
  },
  {
   "cell_type": "markdown",
   "metadata": {},
   "source": [
    "### Load data"
   ]
  },
  {
   "cell_type": "code",
   "execution_count": 2,
   "metadata": {},
   "outputs": [],
   "source": [
    "from sklearn.datasets import fetch_openml\n",
    "X, y = fetch_openml('mnist_784', return_X_y=True, parser='auto')"
   ]
  },
  {
   "cell_type": "code",
   "execution_count": 3,
   "metadata": {},
   "outputs": [
    {
     "name": "stdout",
     "output_type": "stream",
     "text": [
      "(70000, 784) <class 'pandas.core.frame.DataFrame'>\n",
      "(70000,) <class 'pandas.core.series.Series'>\n"
     ]
    }
   ],
   "source": [
    "print(X.shape, type(X))\n",
    "print(y.shape, type(y))\n",
    "\n",
    "X_np = X.to_numpy()\n",
    "y_np = y.to_numpy()"
   ]
  },
  {
   "cell_type": "markdown",
   "metadata": {},
   "source": [
    "### Extract Features"
   ]
  },
  {
   "cell_type": "markdown",
   "metadata": {},
   "source": [
    "So we basically have 70000 samples with each sample having 784 features - pixels in this case and a label - the digit the image represent.\n",
    "\n",
    "Let’s play around and see if we can extract any features from the pixels that can be more informative. First I’d like to know more about average intensity - **that is the average value of a pixel in an image for the different digits**"
   ]
  },
  {
   "cell_type": "code",
   "execution_count": 4,
   "metadata": {},
   "outputs": [
    {
     "name": "stdout",
     "output_type": "stream",
     "text": [
      "               0\n",
      "class           \n",
      "0      44.177405\n",
      "1      19.406802\n",
      "2      38.034208\n",
      "3      36.154209\n",
      "4      30.996000\n",
      "5      32.950159\n",
      "6      35.234865\n",
      "7      29.217987\n",
      "8      38.397901\n",
      "9      31.359408\n"
     ]
    }
   ],
   "source": [
    "labels = np.unique(y)\n",
    "# print(labels)\n",
    "n_label = np.unique(y).shape[0]\n",
    "\n",
    "# array stores average intensity for each label\n",
    "l_means = X.mean(axis=1)\n",
    "l_means = pd.concat([l_means, y], axis=1).groupby('class').mean()\n",
    "\n",
    "# TODO compute average intensity for each label\n",
    "print(l_means)"
   ]
  },
  {
   "cell_type": "markdown",
   "metadata": {},
   "source": [
    "Plot the average intensity using matplotlib"
   ]
  },
  {
   "cell_type": "code",
   "execution_count": 5,
   "metadata": {},
   "outputs": [
    {
     "data": {
      "image/png": "[encoded data removed]",
      "text/plain": [
       "<Figure size 640x480 with 1 Axes>"
      ]
     },
     "metadata": {},
     "output_type": "display_data"
    }
   ],
   "source": [
    "fig = plt.figure()\n",
    "ax = fig.add_axes([0,0,1,1])\n",
    "ax.bar(labels,l_means.iloc[:,0])\n",
    "plt.show()"
   ]
  },
  {
   "cell_type": "markdown",
   "metadata": {},
   "source": [
    "As we can see there are some differences in intensity. The digit “1” is the less intense while the digit “0” is the most intense. So this new feature seems to have some predictive value if you wanted to know if say your digit is a “1” or not."
   ]
  },
  {
   "cell_type": "code",
   "execution_count": 6,
   "metadata": {},
   "outputs": [
    {
     "name": "stdout",
     "output_type": "stream",
     "text": [
      "(70000,)\n",
      "[35.10841837 39.6619898  24.7997449  ... 37.28443878 33.87627551\n",
      " 53.35841837]\n"
     ]
    }
   ],
   "source": [
    "#TODO compute average intensity for each data sample\n",
    "intensity = X_np.mean(axis=1)\n",
    "print(intensity.shape)\n",
    "print(intensity)"
   ]
  },
  {
   "cell_type": "markdown",
   "metadata": {},
   "source": [
    "Sometimes people really do not know what are they doing. I am not an exception:"
   ]
  },
  {
   "cell_type": "code",
   "execution_count": 7,
   "metadata": {},
   "outputs": [],
   "source": [
    "def calculate_symmetry_grayscale(image):\n",
    "    # Assuming 'image' is a 1D NumPy array representing the grayscale image\n",
    "\n",
    "    # Create a mirrored version of the image\n",
    "    mirrored_image = np.flip(image)\n",
    "\n",
    "    # Calculate pixel-wise symmetry\n",
    "    symmetry_score = np.sum(np.abs(image - mirrored_image))\n",
    "\n",
    "    # Normalize symmetry score\n",
    "    symmetry = 1 - (symmetry_score / (2 * np.sum(np.abs(image))))  \n",
    "    return symmetry\n",
    "\n",
    "symmetry = np.apply_along_axis(calculate_symmetry_grayscale, axis=1, arr=X_np)"
   ]
  },
  {
   "cell_type": "markdown",
   "metadata": {},
   "source": [
    "I called this feature \"symmetry\" (though it's not \"symmetry\" at all). Use visualization method to understand why this feature work."
   ]
  },
  {
   "cell_type": "code",
   "execution_count": 8,
   "metadata": {},
   "outputs": [
    {
     "name": "stdout",
     "output_type": "stream",
     "text": [
      "              0\n",
      "class          \n",
      "0      0.485135\n",
      "1      0.539071\n",
      "2      0.399001\n",
      "3      0.403066\n",
      "4      0.407103\n",
      "5      0.363520\n",
      "6      0.368320\n",
      "7      0.262586\n",
      "8      0.461888\n",
      "9      0.406346\n"
     ]
    },
    {
     "data": {
      "image/png": "[encoded data removed]",
      "text/plain": [
       "<Figure size 640x480 with 1 Axes>"
      ]
     },
     "metadata": {},
     "output_type": "display_data"
    }
   ],
   "source": [
    "# Plotting Symmertry by labels\n",
    "symmetry_plt = pd.concat([pd.DataFrame(symmetry), y], axis=1).groupby('class').mean()\n",
    "\n",
    "print(symmetry_plt)\n",
    "\n",
    "fig = plt.figure()\n",
    "ax = fig.add_axes([0,0,1,1])\n",
    "ax.bar(labels,symmetry_plt.iloc[:,0])\n",
    "\n",
    "plt.show()"
   ]
  },
  {
   "cell_type": "markdown",
   "metadata": {},
   "source": [
    "Our new trainning data will have 70000 samples and 2 features: intensity, symmetry."
   ]
  },
  {
   "cell_type": "code",
   "execution_count": 9,
   "metadata": {},
   "outputs": [
    {
     "name": "stdout",
     "output_type": "stream",
     "text": [
      "(70000, 2)\n",
      "[[35.10841837  0.50514078]\n",
      " [39.6619898   0.47969127]\n",
      " [24.7997449   0.12292342]\n",
      " ...\n",
      " [37.28443878  0.46922787]\n",
      " [33.87627551  0.39263526]\n",
      " [53.35841837  0.43587598]]\n"
     ]
    }
   ],
   "source": [
    "#TODO create X_new by horizontal stack intensity and symmetry\n",
    "X_new = np.hstack((intensity[:, np.newaxis], symmetry[:, np.newaxis]))\n",
    "\n",
    "print(X_new.shape) #it should be (70000,2)\n",
    "print(X_new) #it should be (70000,2)"
   ]
  },
  {
   "cell_type": "markdown",
   "metadata": {},
   "source": [
    "## 2. Training "
   ]
  },
  {
   "cell_type": "markdown",
   "metadata": {},
   "source": [
    "Usually logistic regression is a good first choice for classification. In this homework we use logistic regression for classifying digit 1 images and not digit 1 images."
   ]
  },
  {
   "cell_type": "markdown",
   "metadata": {},
   "source": [
    "### Normalize data\n",
    "First normalize data using Z-score normalization\n",
    "#### TODO: Study about Z-score normalization  \n",
    "Z-score normalization, also known as standardization, is a statistical method used to rescale and center the values of a distribution by subtracting the mean and dividing by the standard deviation. This process transforms the data into a standard normal distribution with a mean of 0 and a standard deviation of 1. The formula for Z-score normalization for a data point x is given by:\n",
    "$$\n",
    "Z = \\frac{(x−μ)}{σ}\n",
    "$$\n",
    "where:\n",
    "- $Z$ is the Z-score.\n",
    "- $x$ is the individual data point.\n",
    "- $μ$ is the mean of the dataset.\n",
    "- $σ$ is the standard deviation of the dataset."
   ]
  },
  {
   "cell_type": "markdown",
   "metadata": {},
   "source": [
    "#### TODO: Why should we normalize data?\n",
    "Normalizing data is a common preprocessing step in data analysis, machine learning, and statistical modeling. Here are several reasons why data normalization is important:\n",
    "\n",
    "1. **Equalize Scales:**\n",
    "   - Different features in a dataset might have different scales. For example, one feature may range from 0 to 100, while another ranges from 0 to 0.1. Normalizing the data ensures that all features have the same scale, preventing some features from dominating others in algorithms or analyses.\n",
    "\n",
    "2. **Facilitate Convergence in Optimization:**\n",
    "   - In optimization algorithms, such as gradient descent, normalizing features can help the algorithm converge faster. It aids in reaching the minimum or maximum of the cost function more efficiently by ensuring that the optimization process is not dominated by features with larger scales.\n",
    "\n",
    "3. **Improve Interpretability:**\n",
    "   - Normalized data can be easier to interpret. The coefficients in linear models, for example, represent the change in the target variable for a one-unit change in the corresponding feature. If features have different scales, the coefficients may not be directly comparable.\n",
    "\n",
    "4. **Enhance Model Performance:**\n",
    "   - Many machine learning algorithms, especially those based on distance metrics (e.g., k-nearest neighbors), are sensitive to the scale of features. Normalization can lead to better performance for these algorithms by preventing certain features from having a disproportionate influence.\n",
    "\n",
    "5. **Facilitate Comparisons:**\n",
    "   - When comparing or combining datasets, it's essential that the data be on a similar scale. Normalization allows for a fair comparison between datasets and facilitates the combination of information from different sources.\n",
    "\n",
    "6. **Avoid Numerical Instabilities:**\n",
    "   - In some mathematical computations, especially those involving inversion of matrices or computation of derivatives, extreme values or large scales can lead to numerical instability. Normalizing the data can mitigate such issues.\n",
    "\n",
    "7. **Prevent Overfitting:**\n",
    "   - In machine learning models, normalization can help prevent overfitting. Regularization techniques penalize large coefficients, and without normalization, features with larger scales might be penalized more, leading to a less effective model.\n",
    "\n",
    "8. **Handle Outliers:**\n",
    "   - Normalization can make a dataset more robust to outliers. If the data contains extreme values, normalizing the features can reduce the impact of outliers on the overall model.\n",
    "\n",
    "9. **Ease of Interpretation and Communication:**\n",
    "   - Normalizing data can simplify the interpretation and communication of results, making it easier for stakeholders to understand and act upon the information provided.\n",
    "\n",
    "In summary, normalizing data is a crucial step in data preprocessing to ensure that the data is suitable for analysis, modeling, and interpretation. It addresses issues related to different scales, improves the performance of certain algorithms, and facilitates meaningful comparisons between datasets."
   ]
  },
  {
   "cell_type": "code",
   "execution_count": 10,
   "metadata": {},
   "outputs": [
    {
     "name": "stdout",
     "output_type": "stream",
     "text": [
      "[[ 0.15575488  0.5942758 ]\n",
      " [ 0.56751688  0.43379815]\n",
      " [-0.77641894 -1.81588213]\n",
      " ...\n",
      " [ 0.35252406  0.36781885]\n",
      " [ 0.04433692 -0.11515315]\n",
      " [ 1.8060324   0.15751097]]\n"
     ]
    }
   ],
   "source": [
    "#TODO: normalize X_new\n",
    "def normalize(X):\n",
    "    return (X - np.mean(X, axis=0)) / np.std(X, axis=0)\n",
    "\n",
    "X_new = normalize(X_new)\n",
    "print(X_new)"
   ]
  },
  {
   "cell_type": "markdown",
   "metadata": {},
   "source": [
    "### Construct  data"
   ]
  },
  {
   "cell_type": "code",
   "execution_count": 13,
   "metadata": {},
   "outputs": [
    {
     "name": "stdout",
     "output_type": "stream",
     "text": [
      "(70000, 5)\n",
      "(70000, 1)\n"
     ]
    }
   ],
   "source": [
    "X_new = np.hstack((np.ones((len(X_new), 1)), X_new)) #stack 1s column as usual\n",
    "\n",
    "y_new = np.array(y).astype(int)\n",
    "y_new[y_new != 1] = 0 # digit 1 -> class 1, other digits -> class 0\n",
    "y_new = y_new.reshape(-1,1)\n",
    "print (X_new.shape)\n",
    "print (y_new.shape)"
   ]
  },
  {
   "cell_type": "markdown",
   "metadata": {},
   "source": [
    "### Split data "
   ]
  },
  {
   "cell_type": "code",
   "execution_count": 14,
   "metadata": {},
   "outputs": [
    {
     "name": "stdout",
     "output_type": "stream",
     "text": [
      "(46667, 5)\n",
      "(46667, 1)\n"
     ]
    }
   ],
   "source": [
    "train_X, test_X, train_y, test_y = train_test_split(X_new, y_new, test_size= int(1/3*X.shape[0]))\n",
    "print(train_X.shape)\n",
    "print(train_y.shape)"
   ]
  },
  {
   "cell_type": "markdown",
   "metadata": {},
   "source": [
    "### Sigmoid function and derivative of the sigmoid function"
   ]
  },
  {
   "cell_type": "code",
   "execution_count": 15,
   "metadata": {},
   "outputs": [],
   "source": [
    "def sigmoid_activation(x):\n",
    "    \"\"\"compute the sigmoid activation value for a given input\"\"\"\n",
    "    return 1.0 / (1 + np.exp(-x))\n",
    "def sigmoid_deriv(x):\n",
    "    '''compute the derivative of the sigmoid function ASSUMING\n",
    "    that the input ‘x‘ has already been passed through the sigmoid\n",
    "    activation function'''\n",
    "    return x * (1 - x)"
   ]
  },
  {
   "cell_type": "markdown",
   "metadata": {},
   "source": [
    "### Compute output"
   ]
  },
  {
   "cell_type": "code",
   "execution_count": 16,
   "metadata": {},
   "outputs": [],
   "source": [
    "def compute_h(W, X):\n",
    "    \"\"\"\n",
    "    Compute output: Take the dot product between our features ‘X‘ and the weight\n",
    "    matrix ‘W‘, then pass this value through our sigmoid activation function \n",
    "    \"\"\"\n",
    "    return sigmoid_activation(X.dot(W))\n",
    "def predict(W, X):\n",
    " \n",
    "    '''Take the dot product between our features and weight matrix, \n",
    "       then pass this value through our sigmoid activation'''\n",
    "    #........\n",
    "    preds=sigmoid_activation(X.dot(W))\n",
    "    # apply a step function to threshold the outputs to binary\n",
    "    # class labels\n",
    "    preds[preds <= 0.5] = 0\n",
    "    preds[preds > 0] = 1\n",
    "\n",
    "    return preds"
   ]
  },
  {
   "cell_type": "markdown",
   "metadata": {},
   "source": [
    "### Compute gradient"
   ]
  },
  {
   "cell_type": "markdown",
   "metadata": {},
   "source": [
    "**Loss Function: Average negative log likelihood**\n",
    "$$\\mathcal{L}=\\dfrac{1}{N} \\sum_{i=1}^{N} -\\left(y^{i}\\ln h_{\\mathbf{w}}\\left(\\mathbf{x}^{i}\\right)+\\left(1-y^{i}\\right)\\ln \\left(1-h_{\\mathbf{w}}\\left(x^{i}\\right)\\right)\\right) $$\n",
    "\n",
    "\n",
    "$$\\text{Sigmoid Activation: } z= \\sigma \\left(h\\right)= \\dfrac{1}{1+e^{-h}}$$\n",
    "\n",
    "$$\\text{Cross-entropy: } J(w)=-\\left({ylog(z)+(1-y)log(1-z)}\\right)$$\n",
    "\n",
    "$$\\text{Chain rule: } \\dfrac{\\partial J(w)}{\\partial w}=\\dfrac{\\partial J(w)}{\\partial z} \\dfrac{\\partial z}{\\partial h}\\dfrac{\\partial h}{\\partial w}  $$\n",
    "\n",
    "$$\\dfrac{\\partial J(w)}{\\partial z}=-\\left(\\dfrac{y}{z}-\\dfrac{1-y}{1-z}\\right)=\\dfrac{z-y}{z(1-z)}$$\n",
    "\n",
    "$$\\dfrac{\\partial z}{\\partial h}=z(1-z)$$\n",
    "\n",
    "$$\\dfrac{\\partial h}{\\partial w}=X$$\n",
    "\n",
    "$$\\dfrac{\\partial J(w)}{\\partial w}=X^T(z-y)$$"
   ]
  },
  {
   "cell_type": "code",
   "execution_count": 23,
   "metadata": {},
   "outputs": [],
   "source": [
    "def compute_gradient(train_X, error):\n",
    "    \"\"\"\n",
    "    This is the gradient descent update of \"average negative log likelihood\" loss function. \n",
    "    In lab02 our loss function is \"sum squared error\".\n",
    "    \"\"\"\n",
    "    \n",
    "    #TODO\n",
    "    gradient = train_X.T.dot(error) / train_X.shape[0]\n",
    "    return gradient"
   ]
  },
  {
   "cell_type": "code",
   "execution_count": 19,
   "metadata": {},
   "outputs": [],
   "source": [
    "def train(W,train_X, train_y, learning_rate, num_epochs, losses):\n",
    "    for epoch in np.arange(0, num_epochs):\n",
    "        h=compute_h(W,train_X)\n",
    "        error = h - train_y\n",
    "        loss = np.mean(- train_y * np.log(h) - (1 - train_y) * np.log(1 - h))\n",
    "        losses.append(loss)\n",
    "        gradient=compute_gradient(h, error)\n",
    "        W += -learning_rate * gradient\n",
    "        if ((epoch+1)%1000==0): print ('Epoch %d, loss %.3f' %(epoch+1, loss))\n",
    "        \n",
    "    return W"
   ]
  },
  {
   "cell_type": "markdown",
   "metadata": {},
   "source": [
    "### Train our model"
   ]
  },
  {
   "cell_type": "code",
   "execution_count": 20,
   "metadata": {
    "scrolled": false
   },
   "outputs": [
    {
     "name": "stdout",
     "output_type": "stream",
     "text": [
      "Epoch 1000, loss 0.390\n",
      "Epoch 2000, loss 0.399\n",
      "Epoch 3000, loss 0.422\n",
      "Epoch 4000, loss 0.446\n",
      "Epoch 5000, loss 0.471\n",
      "Epoch 6000, loss 0.495\n",
      "Epoch 7000, loss 0.519\n",
      "Epoch 8000, loss 0.543\n",
      "Epoch 9000, loss 0.566\n",
      "Epoch 10000, loss 0.589\n",
      "Epoch 11000, loss 0.612\n",
      "Epoch 12000, loss 0.634\n",
      "Epoch 13000, loss 0.656\n",
      "Epoch 14000, loss 0.678\n",
      "Epoch 15000, loss 0.699\n",
      "Epoch 16000, loss 0.720\n",
      "Epoch 17000, loss 0.742\n",
      "Epoch 18000, loss 0.763\n",
      "Epoch 19000, loss 0.784\n",
      "Epoch 20000, loss 0.805\n",
      "Epoch 21000, loss 0.825\n",
      "Epoch 22000, loss 0.846\n",
      "Epoch 23000, loss 0.867\n",
      "Epoch 24000, loss 0.887\n",
      "Epoch 25000, loss 0.908\n",
      "Epoch 26000, loss 0.929\n",
      "Epoch 27000, loss 0.949\n",
      "Epoch 28000, loss 0.970\n",
      "Epoch 29000, loss 0.990\n",
      "Epoch 30000, loss 1.011\n",
      "Epoch 31000, loss 1.031\n",
      "Epoch 32000, loss 1.052\n",
      "Epoch 33000, loss 1.072\n",
      "Epoch 34000, loss 1.093\n",
      "Epoch 35000, loss 1.113\n",
      "Epoch 36000, loss 1.134\n",
      "Epoch 37000, loss 1.155\n",
      "Epoch 38000, loss 1.175\n",
      "Epoch 39000, loss 1.196\n",
      "Epoch 40000, loss 1.217\n",
      "==================================================\n",
      "Train err of final w:  11.734201898557869\n"
     ]
    }
   ],
   "source": [
    "W = np.random.randn(train_X.shape[1], 1)\n",
    "losses=[]\n",
    "num_epochs=40000\n",
    "learning_rate=0.01\n",
    "W=train(W,train_X, train_y, learning_rate, num_epochs , losses)\n",
    "x_preds=predict(W ,train_X)\n",
    "train_err = np.mean(x_preds != train_y) * 100\n",
    "print ('=' * 50)\n",
    "print ('Train err of final w: ', train_err)"
   ]
  },
  {
   "cell_type": "markdown",
   "metadata": {},
   "source": [
    "## 3. Evaluate our model"
   ]
  },
  {
   "cell_type": "code",
   "execution_count": 21,
   "metadata": {},
   "outputs": [
    {
     "name": "stdout",
     "output_type": "stream",
     "text": [
      "              precision    recall  f1-score   support\n",
      "\n",
      "           0       0.89      0.98      0.94     41423\n",
      "           1       0.39      0.08      0.13      5244\n",
      "\n",
      "    accuracy                           0.88     46667\n",
      "   macro avg       0.64      0.53      0.53     46667\n",
      "weighted avg       0.84      0.88      0.85     46667\n",
      "\n"
     ]
    }
   ],
   "source": [
    "preds = predict(W, train_X)\n",
    "print(classification_report(train_y, preds))"
   ]
  },
  {
   "cell_type": "code",
   "execution_count": 22,
   "metadata": {},
   "outputs": [
    {
     "name": "stdout",
     "output_type": "stream",
     "text": [
      "              precision    recall  f1-score   support\n",
      "\n",
      "           0       0.89      0.99      0.94     20700\n",
      "           1       0.42      0.08      0.13      2633\n",
      "\n",
      "    accuracy                           0.88     23333\n",
      "   macro avg       0.66      0.53      0.53     23333\n",
      "weighted avg       0.84      0.88      0.85     23333\n",
      "\n"
     ]
    }
   ],
   "source": [
    "preds = predict(W, test_X)\n",
    "print(classification_report(test_y, preds))"
   ]
  },
  {
   "cell_type": "markdown",
   "metadata": {},
   "source": [
    "**TODO: Comment on the result**"
   ]
  },
  {
   "cell_type": "markdown",
   "metadata": {},
   "source": [
    "## References\n",
    "### [pd.Dataframe.groupby](https://pandas.pydata.org/docs/reference/api/pandas.DataFrame.groupby.html)"
   ]
  }
 ],
 "metadata": {
  "kernelspec": {
   "display_name": "Python 3 (ipykernel)",
   "language": "python",
   "name": "python3"
  },
  "language_info": {
   "codemirror_mode": {
    "name": "ipython",
    "version": 3
   },
   "file_extension": ".py",
   "mimetype": "text/x-python",
   "name": "python",
   "nbconvert_exporter": "python",
   "pygments_lexer": "ipython3",
   "version": "3.11.0"
  }
 },
 "nbformat": 4,
 "nbformat_minor": 4
}
