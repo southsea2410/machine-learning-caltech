{
 "cells": [
  {
   "cell_type": "markdown",
   "metadata": {},
   "source": [
    "# Bài tập 1\n",
    "\n",
    "\n",
    "Đinh Dương Hải Nam - 21127113\n",
    "\n",
    "---"
   ]
  },
  {
   "cell_type": "markdown",
   "metadata": {},
   "source": [
    "## 1. \n",
    "Giải thích ...\n",
    "\n",
    "**(i)** Tình huống này không thoả các thành phần (Components of Learning) khi chiếc máy đã được cấp sẵn target function bởi các Developers, không có quá trình học nào xảy ra để đúc kết được target function\n",
    "\n",
    "**(i)** \n",
    "\n",
    "Do đó, đáp án đúng là: [d] (i) Not learning, (ii) Supervised Learning, (iii) Reinforcement Learning."
   ]
  },
  {
   "cell_type": "markdown",
   "metadata": {},
   "source": [
    "## 2.\n",
    "\n",
    "### Một vấn đề có thể áp dụng ML khi nó hội tụ đủ:\n",
    "- Hình mẫu (Pattern)\n",
    "- Dữ liệu (Data)\n",
    "- Không thể tìm ra công thức toán học cụ thể (Cannot pin it down mathematically)\n",
    "\n",
    "**Với câu (i)**, bài toán xác định số nguyên tố có thể giải quyết bằng các thuật toán, công thức toán học, nên đây không phải là một vấn đề dành cho ML.\n",
    "\n",
    "**Với câu (ii)**, có thể áp dụng ML vào tình huống này, bởi vì chúng ta có Dữ liệu - từ lịch sử thanh toán; Và có 1 hình mẫu (pattern) tương quan giữa số tiền rút ra và khả năng lừa đảo; Và đây là 1 vấn đề không có công thức toán học cụ thể xác định được.\n",
    "\n",
    "**Với câu (iii)**, tính toán thời gian rơi là một bài toán vật lý cơ bản, đã có công thức để giải quyết, không cần áp dụng ML.\n",
    "\n",
    "**Với câu (iv)**, có sự liên quan (khuôn mẫu - pattern) giữa chu kỳ đèn tín hiệu và khả năng giải quyết kẹt xe; hơn nữa, đây là vấn đề xảy ra hàng ngày nên chúng ta có rất nhiều dữ liệu; cũng không có công thức toán học cụ thể. Vậy đây là 1 vấn đề hợp với ML.\n",
    "\n",
    "Do đó đáp án là [a]: (ii) và (iv)"
   ]
  },
  {
   "cell_type": "markdown",
   "metadata": {},
   "source": [
    "## 3.\n",
    "\n",
    "**A** là sự kiện bốc được bóng thứ nhất màu đen\n",
    "\n",
    "**B** là sự kiện túi được chọn **chứa 2 bóng đen**\n",
    "\n",
    "Ta có P(A) = 1/2 * 1 + 1/2 * 1/2 = 3/4 (xác suất chọn mỗi túi là 1/2; xác suất chọn bóng đen trong túi 2 bóng đen là 1; xác suất chọn bóng đen trong túi 2 loại bóng là 1/2)\n",
    "\n",
    "Ta có P(B) = 1/2 (chọn 1 trong 2 túi)\n",
    "\n",
    "Ta có P(A|B) = 1 (xác suất bốc được bóng đen biết túi được chọn chứa 2 bóng đen là 1)\n",
    "\n",
    "Xác suất bốc được bóng 2 đen biết bóng 1 màu đen cũng giống như xác suất túi được chọn chứa 2 bóng đen biết bóng đầu tiên màu đen. Vậy P(B|A) = P(A|B) * P(B) / P(A) = 1 * 1/2 / 3/4 = 2/3\n",
    "\n",
    "Vậy đáp án đúng là [d] 2/3.\n",
    "\n"
   ]
  },
  {
   "cell_type": "markdown",
   "metadata": {},
   "source": [
    "## 4.\n",
    "xác suất bốc trúng bi xanh = 1 - 0.55 = 0.45\n",
    "\n",
    "Xác suất 10 bi xanh: 0.45 ^ 10 = 3.405 * 10^-4. Vậy đáp án là [b]"
   ]
  },
  {
   "cell_type": "markdown",
   "metadata": {},
   "source": [
    "## 5.  \n",
    "Rút 1000 mẫu. Tính xác suất có ít nhất 1 mẫu toàn màu xanh\n",
    "\n",
    "P(rút 10 bi toàn màu xanh) = 0.45^10\n",
    "\n",
    "P(1000 mẫu toàn màu xanh) = 0.45^10^1000\n",
    "\n",
    "P(không có mẫu nào toàn màu xanh) = 1\n",
    "\n",
    "\n",
    "\n",
    "\n",
    "\n"
   ]
  },
  {
   "cell_type": "markdown",
   "metadata": {},
   "source": [
    "## 6."
   ]
  },
  {
   "cell_type": "markdown",
   "metadata": {},
   "source": [
    "## 7-10. "
   ]
  },
  {
   "cell_type": "markdown",
   "metadata": {},
   "source": [
    "### Import các thư viện cần thiết"
   ]
  },
  {
   "cell_type": "code",
   "execution_count": 8,
   "metadata": {
    "collapsed": true
   },
   "outputs": [],
   "source": [
    "import numpy as np"
   ]
  },
  {
   "cell_type": "markdown",
   "metadata": {},
   "source": [
    "### Định nghĩa các hàm"
   ]
  },
  {
   "cell_type": "markdown",
   "metadata": {},
   "source": [
    "Hàm phát sinh ra `target_w`, véc-tơ tham số của $f$"
   ]
  },
  {
   "cell_type": "code",
   "execution_count": 9,
   "metadata": {
    "collapsed": true
   },
   "outputs": [],
   "source": [
    "def generate_target_w():\n",
    "    \"\"\"\n",
    "    Generates target_w from two random, uniformly distributed points in [-1, 1] x [-1, 1].\n",
    "    \n",
    "    Returns\n",
    "    -------\n",
    "    target_w : numpy array, shape (3, 1) \n",
    "        The vector of parameters of f.\n",
    "    \"\"\"\n",
    "    # Generate two points from a uniform distribution over [-1, 1]x[-1, 1]\n",
    "    p1 = np.random.uniform(-1, 1, 2)\n",
    "    p2 = np.random.uniform(-1, 1, 2)\n",
    "    \n",
    "    # Compute the target W from these two points\n",
    "    target_w = np.array([p1[1] * p2[0] - p1[0] * p2[1], p2[1] - p1[1], p1[0] - p2[0]]).reshape((-1, 1))\n",
    "    \n",
    "    return target_w"
   ]
  },
  {
   "cell_type": "markdown",
   "metadata": {},
   "source": [
    "Hàm phát sinh ra tập dữ liệu"
   ]
  },
  {
   "cell_type": "code",
   "execution_count": 10,
   "metadata": {
    "collapsed": true
   },
   "outputs": [],
   "source": [
    "def generate_data(N, target_w):\n",
    "    \"\"\"\n",
    "    Generates a data set by generating random inputs and then using target_w to generate the \n",
    "    corresponding outputs.\n",
    "    \n",
    "    Parameters\n",
    "    ----------\n",
    "    N : int\n",
    "        The number of examples.\n",
    "    target_w : numpy array, shape (3, 1) \n",
    "        The vector of parameters of f.\n",
    "    \n",
    "    Returns\n",
    "    -------\n",
    "    X : numpy array, shape (N, 3)\n",
    "        The matrix of input vectors (each row corresponds to an input vector); the first column of \n",
    "        this matrix is all ones.\n",
    "    Y : numpy array, shape (N, 1)\n",
    "        The vector of outputs.        \n",
    "    \"\"\"\n",
    "    X = np.random.uniform(-1, 1, (N, 2))\n",
    "    X = np.hstack((np.ones((N, 1)), X)) # Add 'ones' column\n",
    "    Y = np.sign(np.dot(X, target_w))\n",
    "    \n",
    "    return X, Y"
   ]
  },
  {
   "cell_type": "markdown",
   "metadata": {},
   "source": [
    "Hàm chạy PLA"
   ]
  },
  {
   "cell_type": "code",
   "execution_count": 11,
   "metadata": {
    "collapsed": true
   },
   "outputs": [],
   "source": [
    "def run_PLA(X, Y):\n",
    "    \"\"\"\n",
    "    Runs PLA.\n",
    "    \n",
    "    Parameters\n",
    "    ----------\n",
    "    X : numpy array, shape (N, 3)\n",
    "        The matrix of input vectors (each row corresponds to an input vector); the first column of \n",
    "        this matrix is all ones.\n",
    "    Y : numpy array, shape (N, 1)\n",
    "        The vector of outputs.\n",
    "    \n",
    "    Returns\n",
    "    -------\n",
    "    w : numpy array, shape (3, 1) \n",
    "        The vector of parameters of g.\n",
    "    num_iterations : int\n",
    "        The number of iterations PLA takes to converge.\n",
    "    \"\"\"\n",
    "    w = np.zeros((X.shape[1], 1)) # Init w\n",
    "    iteration = 0\n",
    "\n",
    "    # TODO\n",
    "    while(True):\n",
    "        y = np.sign(X @ w)\n",
    "\n",
    "        misqualified = y != Y\n",
    "\n",
    "        if (np.all(misqualified == False)):\n",
    "            break\n",
    "\n",
    "        X_mis = X[misqualified.reshape(misqualified.shape[0])]\n",
    "        Y_mis = Y[misqualified][:,np.newaxis]\n",
    "\n",
    "        i = np.random.randint(0,X_mis.shape[0])\n",
    "        w = w + (Y_mis[i] * X_mis[i])[:, np.newaxis]\n",
    "\n",
    "        iteration += 1\n",
    "\n",
    "    return w, iteration"
   ]
  },
  {
   "cell_type": "markdown",
   "metadata": {},
   "source": [
    "Hàm main"
   ]
  },
  {
   "cell_type": "code",
   "execution_count": 12,
   "metadata": {
    "collapsed": true
   },
   "outputs": [],
   "source": [
    "def main(N):\n",
    "    \"\"\"\n",
    "    Parameters\n",
    "    ----------\n",
    "    N : int\n",
    "        The number of training examples.\n",
    "    \"\"\"\n",
    "    num_runs = 1000\n",
    "    avg_num_iterations = 0.0 # The average number of iterations PLA takes to converge\n",
    "    avg_test_err = 0.0 # The average test error of g - the final hypothesis picked by PLA\n",
    "    \n",
    "    for r in range(num_runs):\n",
    "        # Generate target_w\n",
    "        target_w = generate_target_w()\n",
    "        \n",
    "        # Generate training set\n",
    "        X, Y = generate_data(N, target_w)\n",
    "        \n",
    "        # Run PLA to pick g\n",
    "        w, num_iterations = run_PLA(X, Y)\n",
    "        \n",
    "        # Generate test set\n",
    "        X_test, Y_test = generate_data(10000, target_w)\n",
    "        \n",
    "        # Test g\n",
    "        test_err = np.mean(np.sign(np.dot(X_test, w)) != Y_test)\n",
    "        \n",
    "        # Update average values\n",
    "        avg_num_iterations += (num_iterations * 1.0 / num_runs)\n",
    "        avg_test_err += (test_err * 1.0 / num_runs)\n",
    "    \n",
    "    # Print results\n",
    "    print ('avg_num_iterations = %f' % (avg_num_iterations))\n",
    "    print ('avg_test_err = %f' % (avg_test_err))"
   ]
  },
  {
   "cell_type": "markdown",
   "metadata": {},
   "source": [
    "### Chạy"
   ]
  },
  {
   "cell_type": "code",
   "execution_count": 13,
   "metadata": {},
   "outputs": [
    {
     "name": "stdout",
     "output_type": "stream",
     "text": [
      "avg_num_iterations = 9.997000\n",
      "avg_test_err = 0.104953\n"
     ]
    }
   ],
   "source": [
    "main(N=10) # We can use `main(10)`, but `main(N=10)` is clearer"
   ]
  },
  {
   "cell_type": "markdown",
   "metadata": {},
   "source": [
    "Câu 7: ta thấy kết quả gần nhất với đáp án [b] 15.\n",
    "\n",
    "Câu 8: ta thấy kết quả gần nhất với đáp án [c] 0.1."
   ]
  },
  {
   "cell_type": "code",
   "execution_count": 14,
   "metadata": {},
   "outputs": [
    {
     "name": "stdout",
     "output_type": "stream",
     "text": [
      "avg_num_iterations = 121.178000\n",
      "avg_test_err = 0.013003\n"
     ]
    }
   ],
   "source": [
    "main(N=100)"
   ]
  },
  {
   "cell_type": "markdown",
   "metadata": {},
   "source": [
    "Câu 9: ta thấy kết quả gần nhất với đáp án 100\n",
    "\n",
    "Câu 10: ta thấy kết quả gần nhất với đáp án 0.01"
   ]
  }
 ],
 "metadata": {
  "kernelspec": {
   "display_name": "Python 3 (ipykernel)",
   "language": "python",
   "name": "python3"
  },
  "language_info": {
   "codemirror_mode": {
    "name": "ipython",
    "version": 3
   },
   "file_extension": ".py",
   "mimetype": "text/x-python",
   "name": "python",
   "nbconvert_exporter": "python",
   "pygments_lexer": "ipython3",
   "version": "3.11.0"
  }
 },
 "nbformat": 4,
 "nbformat_minor": 1
}
