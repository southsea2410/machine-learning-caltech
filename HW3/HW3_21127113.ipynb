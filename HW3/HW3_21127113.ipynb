{
 "cells": [
  {
   "cell_type": "markdown",
   "metadata": {},
   "source": [
    "# Homework 3\n",
    "MSSV: 21127113  \n",
    "Name: Đinh Dương Hải Nam"
   ]
  },
  {
   "cell_type": "markdown",
   "metadata": {},
   "source": [
    "## Exercise 1. 2. 3."
   ]
  },
  {
   "cell_type": "markdown",
   "metadata": {},
   "source": [
    "$$\n",
    "2Me^{-2\\epsilon^{2}N} \\le 0.03\\\\\n",
    "\\Leftrightarrow (e^{-2\\epsilon^{2}})^{N} \\le \\frac{0.03}{2M}\\\\\n",
    "\\text{Because } 0< e^{-2\\epsilon^{2}} < 1 \\text{ and } \\frac{0.03}{2M} > 0 \\\\\n",
    "\\color{red} \\Leftrightarrow N\\ge log_{e^{-2\\epsilon^{2}}}\\left(\\frac{0.03}{2M}\\right) \\\\\n",
    "\\text{Now we use this formula to do 1. 2. and 3.}\n",
    "$$"
   ]
  },
  {
   "cell_type": "markdown",
   "metadata": {},
   "source": [
    "### 1.\n",
    "$N \\ge 839.94$ so nearest answer is **[b].1000**"
   ]
  },
  {
   "cell_type": "markdown",
   "metadata": {},
   "source": [
    "### 2.\n",
    "$N \\ge 1300.46$ so nearest answer is **[c].1500**"
   ]
  },
  {
   "cell_type": "markdown",
   "metadata": {},
   "source": [
    "### 3.\n",
    "$N \\ge 1760.98$ so nearest answer is **[d].2000**"
   ]
  },
  {
   "cell_type": "markdown",
   "metadata": {},
   "source": [
    "## Exercise 4\n",
    "We have already know that we cant shatter 4 coplanar points (proved in the video)  \n",
    "Put 3 blue points coplanarly to create a plane, with 2 more red points, we can create some failing cases at **k = 5**:\n",
    "<table>\n",
    "<tr>\n",
    "<td> <h3 id=\"a\">(a)</h3> </td>\n",
    "<td> <h3 id=\"b\">(b)</h3> </td>\n",
    "</tr>\n",
    "<tr>\n",
    "<td>\n",
    "<img src=\"4fail1.png\" alt=\"drawing\" style=\"height:300px;\"/>\n",
    "</td>\n",
    "<td>\n",
    "<img src=\"4fail2.png\" alt=\"drawing\" style=\"height:300px;\"/>\n",
    "</td>\n",
    "</tr>\n",
    "</table>  \n",
    "\n",
    "It seems break point for $R^{3}$ is k = 5  \n",
    "The main idea of (a) and (b) here is 3 blue point forming a plane, and 2 red point laying on separate sides of that plane.  \n",
    "*And one of the red points must stay inside the pyramid created by the other red point and the 3-blue plane*  \n",
    "Here, Point **D** stays inside the *pyramid EABC* and its extension part in both cases. And no plane can classified them.  "
   ]
  },
  {
   "cell_type": "markdown",
   "metadata": {},
   "source": [
    "### So is it done?\n",
    "We can move the point D **out of the pyramid**, and now it exists a plane can classify them:  \n",
    "![4-3](4-3.png)  \n",
    "  \n",
    "  \n",
    "The breakpoint case now seems to be solved. **But no,** we just need to change color of some points and we are back to the beginning, like below:  \n",
    "![](4-4.png)  \n",
    "  \n",
    "  \n",
    "Red points now are A & C and blue points are B & D & E. We have formed the situation like [(a)](###a) above. And the breakpoint for [(a)](###a) is k = 5.\n",
    "\n",
    "So finally $R^{3}$ cannot shatter 5 points. Alternate **[b]. 5**"
   ]
  },
  {
   "cell_type": "markdown",
   "metadata": {},
   "source": [
    "## Exercise 5\n",
    "We all know:\n",
    "Absent a break point, $m_{H}(N) = 2^N$ for all $N$\n",
    "From the VC dimension formula definition: \n",
    "$$m_{H}(N) \\leq \\sum_{i=0}^{k-1} \\left( \\frac{N}{i} \\right)$$\n",
    "*The RHS (right hand side) is polynomial in N of degree k - 1.*\n",
    "\n",
    "Considering all options we have from a to e, we only get those two are wrong:\n",
    "- iii, $\\sum_{i=1}^{floor(\\sqrt N} {N\\choose i}$ since it is above polynomial (sum upper bound must be fixed, cannot depend on N, and variable maximum power depending on N).\n",
    "- iv, $2^{floor(N/2)}$ since all exponential growth functions must be\n",
    "So the answer is **[b] i, ii, v**"
   ]
  },
  {
   "cell_type": "markdown",
   "metadata": {},
   "source": [
    "## Exercise 6\n",
    "This is the case when we meet the breakpoint for *1-interval* case, where there are **odd** N points and the value are *interleaved*. Outer values are 1.  \n",
    "![1 interval breakpoint](1-interval.png)  \n",
    "k = 3 for this case."
   ]
  },
  {
   "cell_type": "markdown",
   "metadata": {},
   "source": [
    "Moving to the *2-interval* case, we apply the same strategy as above: adding interleaved points to break the hypothesis\n",
    "![2 interval breakpoint](2-interval.png)  \n",
    "k = 5 for this case. So the answer for 6 is **[c]. 5**"
   ]
  },
  {
   "cell_type": "markdown",
   "metadata": {},
   "source": [
    "## Exercise 7\n",
    "### Considering the situation here is we are choosing 4 position out of N + 1 positions\n",
    "- Number of Dichotomies on *choosing 4 different points* on N + 1 points: $\\color{red}\\left(\\frac{N+1}{4}\\right)$\n",
    "- Number of Dichotomies on *3 different boundaries (2 normal boundaries and 2 are overlapped)* on N + 1 positions: $\\color{red}\\left(\\frac{N+1}{3}\\right)$  \n",
    "![2-overlap](2-overlap.png)\n",
    "- Number of Dichotomies on *2 different boundaries (1 normal boundaries and 3 are overlapped)* on N + 1 positions: $\\color{red}\\left(\\frac{N+1}{2}\\right)$  \n",
    "![2-overlap](3-overlap.png)\n",
    "- Number of Dichotomies on *1 boundary (4 boundaries all overlapping in 1 position)*: $\\color{red}1$  \n",
    "![2-overlap](4-overlap.png)  \n",
    "Sum up, the final answer for 7. is **[c].**$\\left(\\frac{N+1}{4}\\right) + \\left(\\frac{N+1}{3}\\right) + \\left(\\frac{N+1}{2}\\right) + 1$"
   ]
  },
  {
   "cell_type": "markdown",
   "metadata": {},
   "source": [
    "## Exercise 8\n",
    "\n",
    "From the exercises above we can easily realize how to break the hypothesis is putting the points interleavedly, here is an example for 3-interval case: \n",
    " \n",
    "![3-interval](3-interval.png)  \n",
    "It requires **M + 1 blue points and M red points** laying interleavedly. So the answer is **[d]. 2M+1**"
   ]
  },
  {
   "cell_type": "markdown",
   "metadata": {},
   "source": [
    "## Exercise 9 (not done)\n",
    "\n",
    "We start by arguing that any point configuration with **more than $3$ points** and that can be shattered by a triangle **must be composed of points that lay along a convex hull**. Otherwise, we can trivially generate dichotomies that cannot be separated by taking the convex hull of these points, assigning $+1$ to points that are on the convex hull, and $-1$ to points that are not.\n",
    "\n",
    "With that out of the way, it is not hard to see that separating points along a convex hull with a triangle reduces to $3$-intervals with a twist: namely, that the \"last\" point becomes adjacent to the first, so that sets with $7$ points can now be shattered (Fig. \\@ref(fig:triangle-shatter)(a)).\n",
    "\n",
    "\n",
    "![triangle-shatter](triangle-shatter.png)\n",
    "\n",
    "\n",
    "Assume now, without loss of generality, that we wished to introduce an $8^{th}$ point between the two adjacent red points $x_1$ and $x_2$. We will demonstrate that if $x_1$ and $x_2$ are red, then either: _i)_ $x_3$ is also red, or _ii)_ $x_3$ is not a part of a the convex hull. Either way, an $8$-point set cannot be shattered with a triangle.\n",
    "\n",
    "**Proof.** Suppose we wanted our newly-added $x_3$ point to be blue. We must therefore place $x_3$ outside of the decision triangle. However, since the interior angles in a convex hull cannot be larger than $180^{\\circ}$, it must be the case that $x_3$ is contained within the small orange triangle of Fig. \\@ref(fig:triangle-shatter)(b). That small triangle, however, is entirely composed of red points as it lays entirely within our decision triangle.\n",
    "\n",
    "To get $x_3$ to be blue, therefore, we must make it so that the decision triangle intercepts the orange triangle, leaving at least one point out for us to pick as our $x_3$ while keeping, of course, all of the other points as they are. \n",
    "\n",
    "But we see that this is not possible. Informally: in order to intercept the orange triangle while keeping $x_1$ and $x_2$ inside, we must \"squash\" the decision triangle so much that we also also scoop both $x_5$ and $x_6$ in, turning them red (Fig. \\@ref(fig:triangle-shatter)(c)). It therefore follows that either $x_3$ must be red, or it must be outside of the convex hull. The $8$-point set cannot be shattered. $\\blacksquare$\n",
    "\n",
    "The biggest set we can shatter, then, is a set of size $7$, giving us answer $d$."
   ]
  },
  {
   "cell_type": "markdown",
   "metadata": {},
   "source": [
    "## Exercise 9\n",
    "\n",
    "Starting with some basic generalization, we all know:\n",
    "- With more than 3 points, a triangle can not classify cases where points **not laid out** in a convex hull, a significant case here is the inside point is -1 (red) and outside points are 1 (blue):  \n",
    "![](9-impossible.png)  \n",
    "\n",
    "So\n",
    "- All options available in this problem now are **considered a convex hull** when laying out them.\n",
    "- Any configuration of points not creating a convex hull **cannot be shattered**."
   ]
  },
  {
   "cell_type": "markdown",
   "metadata": {},
   "source": [
    "### Considering all options\n",
    "Best example of a convex hull is a circle, so we are laying out points in a circular way for easier consideration.  \n",
    "For **1-point and 3-point** options, we can easily observe that they can be shattered on $R^{2}$  \n",
    "\n",
    "![](9-5points.png)\n",
    "Observation for other 5-point cases: **No problems on classifying 5 points with a triangle**\n",
    "### considering 7 point case\n",
    "![](9-7point.png) Assume we have this configuration and we want to add a **red point** between A and B  \n",
    "![](9-7pointAB.png) The added point must be inside the **yellow triangle** in order **not to break the convex hull**  \n",
    "But inside the yellow triangle is the area for **blue points**  \n",
    "So we cannot add 8th points, so the answer for 9 is maximum **[d]. 7**"
   ]
  },
  {
   "cell_type": "markdown",
   "metadata": {},
   "source": [
    "## Exercise 10."
   ]
  },
  {
   "cell_type": "markdown",
   "metadata": {},
   "source": [
    "From the equation\n",
    "$$a^{2} \\le x_{1}^{2} + x_{2}^{2} \\le b^{2}$$  \n",
    "\n",
    "The equation above is identical to the *positive interval* case raised in the slide&video, where the hypothesis bounds the points in a equation like $$a\\le x \\le b$$\n",
    "So like that situation, laying out N points colinearly, we only need to pick **a** and **b** from N+1 positions.  \n",
    "So the answer here is **[b].**$\\frac{N+1}{2} + 1$  \n"
   ]
  },
  {
   "cell_type": "markdown",
   "metadata": {},
   "source": [
    "References\n",
    "- [github](https://github.com/roessland/learning-from-data/blob/master/)\n",
    "- [github2](https://github.com/gmega/learning-from-data/blob/master)\n",
    "- [github3](https://github.com/workflow/caltech-machine-learning-homework/blob/master)"
   ]
  }
 ],
 "metadata": {
  "language_info": {
   "name": "python"
  }
 },
 "nbformat": 4,
 "nbformat_minor": 2
}
