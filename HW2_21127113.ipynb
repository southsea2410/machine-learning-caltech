{
  "cells": [
    {
      "cell_type": "markdown",
      "metadata": {
        "id": "0BRd2SpA6mEd"
      },
      "source": [
        "## Bài tập 2 - 21127113\n",
        "\n",
        "21127113 - Đinh Dương Hải Nam"
      ]
    },
    {
      "cell_type": "markdown",
      "metadata": {
        "id": "SwRb1cwz2_km"
      },
      "source": [
        "## Hoeffding Inequality\n",
        "*(Question 1. and 2.)*"
      ]
    },
    {
      "cell_type": "code",
      "execution_count": 1,
      "metadata": {
        "id": "v1dt-wVV6OF8"
      },
      "outputs": [],
      "source": [
        "import numpy as np\n",
        "import matplotlib.pyplot as plt\n",
        "\n",
        "rng = np.random.default_rng()"
      ]
    },
    {
      "cell_type": "markdown",
      "metadata": {
        "id": "2sEHp0wnzD3T"
      },
      "source": [
        "Declaring Variables & Constants"
      ]
    },
    {
      "cell_type": "code",
      "execution_count": 2,
      "metadata": {
        "id": "qP77hLY0ZbsH"
      },
      "outputs": [],
      "source": [
        "tests = 100000 # Number of test cases\n",
        "N = 1000 # Number of coins\n",
        "flips = 10 # number of flips each coin\n",
        "ratio = 0.5 # ratio of each coin's side"
      ]
    },
    {
      "cell_type": "markdown",
      "metadata": {
        "id": "Ol8qTzC6zLRC"
      },
      "source": [
        "Flip a coin 10 times with ratio 0.5 each side. Returning a array of (100.000 x 1.000) with each value is ***count of heads on 10 flips***. Each row is a test case with 1000 coins, so there are 100.000 rows in total."
      ]
    },
    {
      "cell_type": "code",
      "execution_count": 3,
      "metadata": {
        "colab": {
          "base_uri": "https://localhost:8080/"
        },
        "id": "53AuNXADzMDN",
        "outputId": "26f552b2-34a4-4ed1-9e5f-23a30e95bcf1"
      },
      "outputs": [
        {
          "data": {
            "text/plain": [
              "(100000, 1000)"
            ]
          },
          "execution_count": 3,
          "metadata": {},
          "output_type": "execute_result"
        }
      ],
      "source": [
        "coin_binomial = rng.binomial(flips, ratio, (tests,N))\n",
        "coin_binomial.shape"
      ]
    },
    {
      "cell_type": "markdown",
      "metadata": {
        "id": "2yPLdzJK0r0x"
      },
      "source": [
        "Getting v1, vrand, vmin and print average of vmin"
      ]
    },
    {
      "cell_type": "code",
      "execution_count": 4,
      "metadata": {
        "colab": {
          "base_uri": "https://localhost:8080/"
        },
        "id": "XdMEntUj1mMG",
        "outputId": "9607ed58-30e4-4eaf-937a-f546c632e2cc"
      },
      "outputs": [
        {
          "name": "stdout",
          "output_type": "stream",
          "text": [
            "0.037483999999999996\n"
          ]
        }
      ],
      "source": [
        "crand = rng.integers(0, high=N-1,size=(tests))\n",
        "cmin = np.argmin(coin_binomial, axis = 1) # axis = 1 means np will take argmin on each rows\n",
        "\n",
        "v1 = coin_binomial[...,:1].copy()\n",
        "vrand = coin_binomial[np.arange(100000),crand]\n",
        "vmin = coin_binomial[np.arange(100000),cmin]\n",
        "\n",
        "# Get Ratio\n",
        "v1 = v1/10\n",
        "vrand= vrand/10\n",
        "vmin = vmin/10\n",
        "\n",
        "print (np.sum(vmin) / tests)"
      ]
    },
    {
      "cell_type": "markdown",
      "metadata": {
        "id": "JKn9nFt2zxQ8"
      },
      "source": [
        "From the above answer, the avg(vmin) is closest to 0.01 -> So the answer for 1. is **[b]**  \n",
        "Now we plot all the 3 ν:"
      ]
    },
    {
      "cell_type": "code",
      "execution_count": 5,
      "metadata": {
        "colab": {
          "base_uri": "https://localhost:8080/",
          "height": 391
        },
        "id": "5140HTQ2WtKT",
        "outputId": "6ee1e07b-bac7-4ce2-ea2e-164e79a87b14"
      },
      "outputs": [
        {
          "data": {
            "image/png": "[encoded data removed]",
            "text/plain": [
              "<Figure size 1000x400 with 3 Axes>"
            ]
          },
          "metadata": {},
          "output_type": "display_data"
        }
      ],
      "source": [
        "plt.figure(figsize=(10,4))\n",
        "plt.subplots_adjust(wspace=0.5)\n",
        "plt.subplot(131)\n",
        "plt.hist(v1, bins=10)\n",
        "plt.title('v1 distribution')\n",
        "\n",
        "plt.subplot(132)\n",
        "plt.hist(vrand, bins=10)\n",
        "plt.title('vrand distribution')\n",
        "\n",
        "plt.subplot(133)\n",
        "plt.hist(vmin, bins=10, range=(0,1))\n",
        "plt.title('vmin distribution')\n",
        "plt.show()\n"
      ]
    },
    {
      "cell_type": "markdown",
      "metadata": {
        "id": "dbKUmupvU4nu"
      },
      "source": [
        "The v1 and vrand are following Hoeffding's Inequality for single bin, while vmin is not. So the answer for 2. is **[d]**"
      ]
    },
    {
      "cell_type": "markdown",
      "metadata": {
        "id": "UcqAk3wh3KCa"
      },
      "source": [
        "## Error and Noise\n"
      ]
    },
    {
      "cell_type": "markdown",
      "metadata": {
        "id": "SWrH0IpfoT8d"
      },
      "source": [
        "### Question 3\n",
        "We have 2 case:  \n",
        "**A)** When $h(x)\\neq f(x)$ and $y = f(x)$  \n",
        "$$P(A) = \\mu * λ$$\n",
        "**B)** When $h(x) = f(x)$ and $y \\neq f(x)$  \n",
        "$$P(B) = (1-\\mu)*(1-λ)$$\n",
        "\n",
        "Now we sum 2 cases altogether:\n",
        "$$\n",
        "P[h(x) \\neq y] = P[A∪B]\\\\\n",
        "=\\mu\\cdot\\lambda + (1 - \\mu)\\cdot(1 - \\lambda)\n",
        "$$\n",
        "So the answer for 3. is **[e]**."
      ]
    },
    {
      "cell_type": "markdown",
      "metadata": {
        "id": "6m0mIXO5roec"
      },
      "source": [
        "### Question 4\n",
        "Consider replacing every answer from [a] to [d] to the equation above, we have this observation when $λ=0.5$:\n",
        "$$\\lambda = 1 - \\lambda$$\n",
        "\n",
        "so\n",
        "\n",
        "$$P[h(x) \\neq y] = \\mu \\cdot \\lambda + (1 - \\mu) \\cdot \\lambda = \\lambda$$\n",
        "\n",
        "so the answer for 4. is **[b]**"
      ]
    },
    {
      "cell_type": "markdown",
      "metadata": {
        "id": "UM8XPGcyr-AP"
      },
      "source": [
        "### Question 5\n",
        "Here I use the data generating code from HW1"
      ]
    },
    {
      "cell_type": "code",
      "execution_count": 6,
      "metadata": {
        "id": "YyF55fpvzsCL"
      },
      "outputs": [],
      "source": [
        "def generate_target_w():\n",
        "    \"\"\"\n",
        "    Generates target_w from two random, uniformly distributed points in [-1, 1] x [-1, 1].\n",
        "\n",
        "    Returns\n",
        "    -------\n",
        "    target_w : numpy array, shape (3, 1)\n",
        "        The vector of parameters of f.\n",
        "    \"\"\"\n",
        "    # Generate two points from a uniform distribution over [-1, 1]x[-1, 1]\n",
        "    p1 = np.random.uniform(-1, 1, 2)\n",
        "    p2 = np.random.uniform(-1, 1, 2)\n",
        "    # Compute the target W from these two points\n",
        "    target_w = np.array([p1[1] * p2[0] - p1[0] * p2[1], p2[1] - p1[1], p1[0] - p2[0]]).reshape((-1, 1))\n",
        "\n",
        "    return target_w"
      ]
    },
    {
      "cell_type": "code",
      "execution_count": 7,
      "metadata": {
        "id": "fDxPrffzwmdW"
      },
      "outputs": [],
      "source": [
        "def generate_data(N, target_w):\n",
        "    \"\"\"\n",
        "    Generates a data set by generating random inputs and then using target_w to generate the\n",
        "    corresponding outputs.\n",
        "\n",
        "    Parameters\n",
        "    ----------\n",
        "    N : int\n",
        "        The number of examples.\n",
        "    target_w : numpy array, shape (3, 1)\n",
        "        The vector of parameters of f.\n",
        "\n",
        "    Returns\n",
        "    -------\n",
        "    X : numpy array, shape (N, 3)\n",
        "        The matrix of input vectors (each row corresponds to an input vector); the first column of\n",
        "        this matrix is all ones.\n",
        "    Y : numpy array, shape (N, 1)\n",
        "        The vector of outputs.\n",
        "    \"\"\"\n",
        "    X = np.random.uniform(-1, 1, (N, 2))\n",
        "    X = np.hstack((np.ones((N, 1)), X)) # Add 'ones' column\n",
        "    Y = np.sign(np.dot(X, target_w))\n",
        "\n",
        "    return X, Y"
      ]
    },
    {
      "cell_type": "code",
      "execution_count": 8,
      "metadata": {
        "id": "4F-1G3QEqYkO"
      },
      "outputs": [],
      "source": [
        "from sklearn.linear_model import LinearRegression"
      ]
    },
    {
      "cell_type": "code",
      "execution_count": 9,
      "metadata": {
        "id": "XPPoem3yz2LV"
      },
      "outputs": [],
      "source": [
        "def main56():\n",
        "  Ntrain = 100\n",
        "  Ntest = 1000\n",
        "  ein = 0.0\n",
        "  eout = 0.0\n",
        "  iterations = 1000\n",
        "\n",
        "  for i in range(iterations):\n",
        "  # generate target w\n",
        "    target_w = generate_target_w()\n",
        "\n",
        "    X, Y = generate_data(Ntrain, target_w)\n",
        "    model = LinearRegression().fit(X,Y)\n",
        "\n",
        "    X_test, Y_test = generate_data(Ntest, target_w)\n",
        "\n",
        "    # misqualified = Y != predict(X)\n",
        "    misqualified = Y != np.sign(model.predict(X))\n",
        "    misqualified_test = Y_test != np.sign(model.predict(X_test))\n",
        "\n",
        "    ein += np.sum(misqualified) / Ntrain\n",
        "    eout += np.sum(misqualified_test) / Ntest\n",
        "\n",
        "  print(\"Question 5: average ein = \",ein/iterations)\n",
        "  print(\"Question 6: average eout = \",eout/iterations)\n"
      ]
    },
    {
      "cell_type": "code",
      "execution_count": 10,
      "metadata": {
        "colab": {
          "base_uri": "https://localhost:8080/"
        },
        "id": "92TxJ6ZnpfT4",
        "outputId": "04b2b0d3-e377-4372-f59e-2c05645c4eea"
      },
      "outputs": [
        {
          "name": "stdout",
          "output_type": "stream",
          "text": [
            "Question 5: average ein =  0.03960000000000004\n",
            "Question 6: average eout =  0.049384000000000025\n"
          ]
        }
      ],
      "source": [
        "main56()"
      ]
    },
    {
      "cell_type": "markdown",
      "metadata": {
        "id": "YdjPnWSWxrrv"
      },
      "source": [
        "So the answer for **[5] and [6]** is **[c]. 0.01**"
      ]
    },
    {
      "cell_type": "code",
      "execution_count": 11,
      "metadata": {
        "id": "MLCn1656znBf"
      },
      "outputs": [],
      "source": [
        "# Question 7\n",
        "\n",
        "def run_PLA(X, Y , w): # X and Y are from in-sample\n",
        "  runs = 0\n",
        "\n",
        "  while(True):\n",
        "    runs += 1\n",
        "\n",
        "    y = np.sign(X @ w)\n",
        "\n",
        "    misqualified = y != Y\n",
        "\n",
        "    if (np.all(misqualified == False)):\n",
        "        runs -= 1\n",
        "        break\n",
        "\n",
        "    X_mis = X[misqualified.reshape(misqualified.shape[0])]\n",
        "    Y_mis = Y[misqualified][:,np.newaxis]\n",
        "\n",
        "    i = np.random.randint(0,X_mis.shape[0])\n",
        "    w = w + (Y_mis[i] * X_mis[i])[:, np.newaxis]\n",
        "  return runs\n"
      ]
    },
    {
      "cell_type": "code",
      "execution_count": 12,
      "metadata": {
        "id": "0Zg-VvCS1qnJ"
      },
      "outputs": [],
      "source": [
        "\n",
        "def main7():\n",
        "  N = 10\n",
        "  runs = 0 # The total number of runs that PLA takes to converge\n",
        "  iterations = 1000\n",
        "  runavg = 0\n",
        "\n",
        "  for i in range(iterations):\n",
        "  # generate target w\n",
        "    target_w = generate_target_w()\n",
        "\n",
        "    X, Y = generate_data(N, target_w)\n",
        "    model = LinearRegression().fit(X,Y)\n",
        "\n",
        "    # get weight from the LinearRegression model\n",
        "    w_predict = np.array(model.coef_).reshape((3, 1))\n",
        "\n",
        "    runs = run_PLA(X,Y,w_predict)\n",
        "\n",
        "    runavg += (runs * 1.0 / iterations)\n",
        "  print(\"Average number of runs over 1000 iterations of PLA: \", runavg)"
      ]
    },
    {
      "cell_type": "code",
      "execution_count": 13,
      "metadata": {
        "colab": {
          "base_uri": "https://localhost:8080/"
        },
        "id": "wVDbc7oQ3umn",
        "outputId": "10631088-ca3f-4af7-a235-8a3775aa9c88"
      },
      "outputs": [
        {
          "name": "stdout",
          "output_type": "stream",
          "text": [
            "Average number of runs over 1000 iterations of PLA:  7.916000000000008\n"
          ]
        }
      ],
      "source": [
        "main7()"
      ]
    },
    {
      "cell_type": "markdown",
      "metadata": {
        "id": "KqhhTKb-zmt1"
      },
      "source": [
        "So the answer for question 7 is **[b] 15**"
      ]
    },
    {
      "cell_type": "markdown",
      "metadata": {
        "id": "hx96GlFw9Hqi"
      },
      "source": [
        "## Nonlinear Transformation"
      ]
    },
    {
      "cell_type": "code",
      "execution_count": 14,
      "metadata": {
        "id": "1UF5AsmaG7Ym"
      },
      "outputs": [],
      "source": [
        "iterations = 1000\n",
        "N = 1000"
      ]
    },
    {
      "cell_type": "code",
      "execution_count": 15,
      "metadata": {
        "colab": {
          "base_uri": "https://localhost:8080/"
        },
        "id": "cvvAocrxG36-",
        "outputId": "a6a84119-e8c3-43c0-ee38-c902ce1ea7fe"
      },
      "outputs": [
        {
          "name": "stdout",
          "output_type": "stream",
          "text": [
            "average_training_error = 0.504082\n"
          ]
        }
      ],
      "source": [
        "average_training_error = 0.0  # The average training error (E_in)\n",
        "\n",
        "# Run the experiment 1000 times\n",
        "for _ in range(iterations):\n",
        "    # Generate dataset X\n",
        "    X = np.random.uniform(-1, 1, (N, 2))\n",
        "\n",
        "    # Generate Y\n",
        "    X_sq = X**2\n",
        "    Y = np.sign(X_sq[:, 0] + X_sq[:, 1] - 0.6)\n",
        "\n",
        "    # Generate Y noise\n",
        "    indices = np.random.choice(np.arange(N), int(N / 10), replace=False)\n",
        "    Y[indices] = -Y[indices]\n",
        "\n",
        "    # Extend feature vector to include a column of 'ones' (1, x_1, x_2)\n",
        "    X = np.insert(X, 0, 1, axis=1)\n",
        "\n",
        "    # Find the weight vector w\n",
        "    X_Dagger = np.dot(np.linalg.inv(np.dot(X.T, X)), X.T)\n",
        "    weight_vector = np.dot(X_Dagger, Y)  # The weight vector\n",
        "\n",
        "    # Make predictions from linear regression weights\n",
        "    predicted_Y = np.sign(np.dot(X, weight_vector))\n",
        "\n",
        "    # Training error (E_in)\n",
        "    training_error = sum(predicted_Y != Y) / N\n",
        "\n",
        "    # Take the average training error to reduce variation in results\n",
        "    average_training_error += (training_error * 1.0 / iterations)\n",
        "\n",
        "print('average_training_error = %f' % (average_training_error))"
      ]
    },
    {
      "cell_type": "markdown",
      "metadata": {
        "id": "tNA6F2olHmdl"
      },
      "source": [
        "So the answer for 8. is **[d] 0.5**"
      ]
    },
    {
      "cell_type": "code",
      "execution_count": 16,
      "metadata": {
        "colab": {
          "base_uri": "https://localhost:8080/"
        },
        "id": "1vZavmaCHsuA",
        "outputId": "0f90330d-0337-490d-e8bf-67ca9f19fda4"
      },
      "outputs": [
        {
          "name": "stdout",
          "output_type": "stream",
          "text": [
            "average_agreement_a = 0.962057\n",
            "average_agreement_b = 0.662697\n",
            "average_agreement_c = 0.662816\n",
            "average_agreement_d = 0.632975\n",
            "average_agreement_e = 0.560948\n"
          ]
        }
      ],
      "source": [
        "average_agreement_a = 0.0  # Average probability of agreement for hypothesis [a]\n",
        "average_agreement_b = 0.0  # Average probability of agreement for hypothesis [b]\n",
        "average_agreement_c = 0.0  # Average probability of agreement for hypothesis [c]\n",
        "average_agreement_d = 0.0  # Average probability of agreement for hypothesis [d]\n",
        "average_agreement_e = 0.0  # Average probability of agreement for hypothesis [e]\n",
        "\n",
        "def f(x):\n",
        "    return np.sign(x[0]**2 + x[1]**2 - 0.6).astype(int)\n",
        "\n",
        "for _ in range(iterations):\n",
        "    # Generate dataset X\n",
        "    X = np.random.uniform(-1, 1, (N, 2))\n",
        "\n",
        "    # Extract features x1 and x2\n",
        "    x1_values = X[:, 0]\n",
        "    x2_values = X[:, 1]\n",
        "    Y = np.apply_along_axis(f, 1, X)\n",
        "\n",
        "    # Introduce noise by flipping the sign of the output in a randomly selected 10% subset\n",
        "    noisy_indices = np.random.choice(N, int(N/10), replace=False)\n",
        "    for i in noisy_indices:\n",
        "        Y[i] = np.negative(Y[i])\n",
        "\n",
        "    # Transform training data into the nonlinear feature vector: (1, x1, x2, x1x2, x1^2, x2^2)\n",
        "    transformed_X = np.array([np.ones(N), x1_values, x2_values, x1_values * x2_values, x1_values**2, x2_values**2]).T\n",
        "\n",
        "    # Find the weight vector w\n",
        "    X_Dagger = np.dot(np.linalg.inv(np.dot(transformed_X.T, transformed_X)), transformed_X.T)\n",
        "    weight_vector = np.dot(X_Dagger, Y)  # The weight vector\n",
        "\n",
        "    # Make predictions from linear regression weights\n",
        "    predicted_Y = np.sign(np.dot(transformed_X, weight_vector))\n",
        "\n",
        "    # [a]\n",
        "    weight_vector_a = np.array([-1, -0.05, 0.08, 0.13, 1.5, 1.5])\n",
        "    predicted_Y_a = np.sign(np.dot(transformed_X, weight_vector_a))\n",
        "    agreement_a = sum(predicted_Y_a == predicted_Y) / N\n",
        "    average_agreement_a += (agreement_a * 1.0 / iterations)\n",
        "\n",
        "    # [b]\n",
        "    weight_vector_b = np.array([-1, -0.05, 0.08, 0.13, 1.5, 15])\n",
        "    predicted_Y_b = np.sign(np.dot(transformed_X, weight_vector_b))\n",
        "    agreement_b = sum(predicted_Y_b == predicted_Y) / N\n",
        "    average_agreement_b += (agreement_b * 1.0 / iterations)\n",
        "\n",
        "    # [c]\n",
        "    weight_vector_c = np.array([-1, -0.05, 0.08, 0.13, 15, 1.5])\n",
        "    predicted_Y_c = np.sign(np.dot(transformed_X, weight_vector_c))\n",
        "    agreement_c = sum(predicted_Y_c == predicted_Y) / N\n",
        "    average_agreement_c += (agreement_c * 1.0 / iterations)\n",
        "\n",
        "    # [d]\n",
        "    weight_vector_d = np.array([-1, -1.5, 0.08, 0.13, 0.05, 0.05])\n",
        "    predicted_Y_d = np.sign(np.dot(transformed_X, weight_vector_d))\n",
        "    agreement_d = sum(predicted_Y_d == predicted_Y) / N\n",
        "    average_agreement_d += (agreement_d * 1.0 / iterations)\n",
        "\n",
        "    # [e]\n",
        "    weight_vector_e = np.array([-1, -0.05, 0.08, 1.5, 0.15, 0.15])\n",
        "    predicted_Y_e = np.sign(np.dot(transformed_X, weight_vector_e))\n",
        "    agreement_e = sum(predicted_Y_e == predicted_Y) / N\n",
        "    average_agreement_e += (agreement_e * 1.0 / iterations)\n",
        "\n",
        "print('average_agreement_a = %f' % (average_agreement_a))\n",
        "print('average_agreement_b = %f' % (average_agreement_b))\n",
        "print('average_agreement_c = %f' % (average_agreement_c))\n",
        "print('average_agreement_d = %f' % (average_agreement_d))\n",
        "print('average_agreement_e = %f' % (average_agreement_e))\n"
      ]
    },
    {
      "cell_type": "markdown",
      "metadata": {
        "id": "b7ylRl_yIiO9"
      },
      "source": [
        "average_agreement_a attaining the maximum value implies that hypothesis **[a]** is most likely to agree with a randomly chosen point. Consequently, the preferred hypothesis for question 9 is **[a]** represented by: $$g(x_1, x_2) = \\text{sign}(-1 - 0.05x_1 + 0.08x_2 + 0.13x_1x_2 + 1.5x_1^2 + 1.5x_2^2)$$."
      ]
    },
    {
      "cell_type": "code",
      "execution_count": 17,
      "metadata": {
        "colab": {
          "base_uri": "https://localhost:8080/"
        },
        "id": "or2_Sq13I2Sw",
        "outputId": "34b5c66b-80f9-4ccd-df78-a2ba2bda28cd"
      },
      "outputs": [
        {
          "name": "stdout",
          "output_type": "stream",
          "text": [
            "average_test_error = 0.142860\n"
          ]
        }
      ],
      "source": [
        "average_test_error = 0.0  # The average test error (E_out)\n",
        "\n",
        "for _ in range(iterations):\n",
        "    # Generate test dataset X\n",
        "    test_X = np.random.uniform(-1, 1, (N, 2))\n",
        "    test_x1s = test_X[:, 0]\n",
        "    test_x2s = test_X[:, 1]\n",
        "    test_Y = np.apply_along_axis(f, 1, test_X)\n",
        "\n",
        "    # Simulate noise by flipping the sign of the output in a randomly selected 10% subset\n",
        "    noisy_indices = np.random.choice(N, int(N/10), replace=False)\n",
        "    for i in noisy_indices:\n",
        "        test_Y[i] = np.negative(test_Y[i])\n",
        "\n",
        "    # Transform test data into the nonlinear feature vector\n",
        "    test_X = np.array([np.ones(N), test_x1s, test_x2s, test_x1s * test_x2s, test_x1s**2, test_x2s**2]).T\n",
        "\n",
        "    weight_vector = np.array([-1, -0.05, 0.08, 0.13, 1.5, 1.5])  # The weight vector from Problem 9\n",
        "\n",
        "    # Make predictions from linear regression weights\n",
        "    test_Y_predict = np.sign(np.dot(test_X, weight_vector))\n",
        "\n",
        "    # Calculate the test error (E_out)\n",
        "    test_error = sum(test_Y != test_Y_predict) / N\n",
        "\n",
        "    # Take the average test error to reduce variation in results\n",
        "    average_test_error += (test_error * 1.0 / iterations)\n",
        "\n",
        "print('average_test_error = %f' % (average_test_error))"
      ]
    },
    {
      "cell_type": "markdown",
      "metadata": {
        "id": "HS6oYlT7Jzfz"
      },
      "source": [
        "The average test error, avg_E_out, is most proximate to the answer **[b] 0.1**."
      ]
    },
    {
      "cell_type": "markdown",
      "metadata": {},
      "source": [
        "## References:\n",
        "- \"HW1.ipynb\" which is included in Moodle of this course\n",
        "- user workflow - on [Github](https://github.com/workflow/caltech-machine-learning-homework/blob/master/HW2.ipynb)"
      ]
    }
  ],
  "metadata": {
    "colab": {
      "provenance": []
    },
    "kernelspec": {
      "display_name": "Python 3",
      "name": "python3"
    },
    "language_info": {
      "codemirror_mode": {
        "name": "ipython",
        "version": 3
      },
      "file_extension": ".py",
      "mimetype": "text/x-python",
      "name": "python",
      "nbconvert_exporter": "python",
      "pygments_lexer": "ipython3",
      "version": "3.11.0"
    }
  },
  "nbformat": 4,
  "nbformat_minor": 0
}
