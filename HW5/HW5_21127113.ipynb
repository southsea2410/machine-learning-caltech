{
 "cells": [
  {
   "cell_type": "markdown",
   "metadata": {},
   "source": [
    "# Homework 5\n",
    "\n",
    "**StudentID**: 21127113  \n",
    "**Name**: Dinh Duong Hai Nam"
   ]
  },
  {
   "cell_type": "code",
   "execution_count": null,
   "metadata": {},
   "outputs": [],
   "source": [
    "import numpy as np\n",
    "import matplotlib.pyplot as plt"
   ]
  },
  {
   "cell_type": "markdown",
   "metadata": {},
   "source": [
    "## Exercise 1"
   ]
  },
  {
   "cell_type": "code",
   "execution_count": 2,
   "metadata": {},
   "outputs": [
    {
     "name": "stdout",
     "output_type": "stream",
     "text": [
      "Ein for key a is 0.001\n",
      "Ein for key b is 0.006400000000000001\n",
      "Ein for key c is 0.009100000000000002\n",
      "Ein for key d is 0.009820000000000002\n",
      "Ein for key e is 0.009910000000000002\n"
     ]
    }
   ],
   "source": [
    "def ex1():\n",
    "    def run(N = 1000, delta = 0.1, d = 8):\n",
    "        return (delta**2) * (1-(d+1)/N)\n",
    "\n",
    "    N = [10, 25, 100, 500, 1000]\n",
    "    keys = ['a', 'b', 'c', 'd', 'e']\n",
    "    for n in N:\n",
    "        print(\"Ein for key {} is {}\".format(keys[N.index(n)], run(N=n)))\n",
    "ex1()"
   ]
  },
  {
   "cell_type": "markdown",
   "metadata": {},
   "source": [
    "As observed from above, $E_{in}$ of **[c][d][e]** is larger than 0.008 and **[c]**.100 is the smallest N. Alternative **[c]**."
   ]
  },
  {
   "cell_type": "markdown",
   "metadata": {},
   "source": [
    "## Exercise 2  \n",
    "The hyperbola equation in 2-dimensional space is:\n",
    "$$\n",
    "\\frac{x^2}{a^2} - \\frac{y^2}{b^2} = 1\n",
    "$$\n",
    "The added zeroth coordinate is not counted, so the $w_1$ and $w_2$ are $\\frac{1}{a^2}$ and $-\\frac{1}{b^2}$, respectively.  \n",
    "We have $\\frac{1}{a^2} > 0$ and $-\\frac{1}{b^2} < 0$ for any $a$ and $b$. So alternative **[c]**."
   ]
  },
  {
   "cell_type": "markdown",
   "metadata": {},
   "source": [
    "## Exercise 3  \n",
    "*The smallest value among the following choices that is not smaller than the VC dimension.*  \n",
    "Can be intepret as:\n",
    "$$\n",
    "min(ans_{[a]}^{[e]}) \\ge d_{VC}\n",
    "$$"
   ]
  }
 ],
 "metadata": {
  "kernelspec": {
   "display_name": "Python 3",
   "language": "python",
   "name": "python3"
  },
  "language_info": {
   "codemirror_mode": {
    "name": "ipython",
    "version": 3
   },
   "file_extension": ".py",
   "mimetype": "text/x-python",
   "name": "python",
   "nbconvert_exporter": "python",
   "pygments_lexer": "ipython3",
   "version": "3.11.0"
  }
 },
 "nbformat": 4,
 "nbformat_minor": 2
}
