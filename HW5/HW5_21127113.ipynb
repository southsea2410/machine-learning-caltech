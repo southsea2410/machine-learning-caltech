{
 "cells": [
  {
   "cell_type": "markdown",
   "metadata": {},
   "source": [
    "# Homework 5\n",
    "\n",
    "**StudentID**: 21127113  \n",
    "**Name**: Dinh Duong Hai Nam"
   ]
  },
  {
   "cell_type": "code",
   "execution_count": 1,
   "metadata": {},
   "outputs": [],
   "source": [
    "import numpy as np\n",
    "import matplotlib.pyplot as plt"
   ]
  },
  {
   "cell_type": "markdown",
   "metadata": {},
   "source": [
    "## Exercise 1"
   ]
  },
  {
   "cell_type": "code",
   "execution_count": 2,
   "metadata": {},
   "outputs": [
    {
     "name": "stdout",
     "output_type": "stream",
     "text": [
      "Ein for key a is 0.001\n",
      "Ein for key b is 0.006400000000000001\n",
      "Ein for key c is 0.009100000000000002\n",
      "Ein for key d is 0.009820000000000002\n",
      "Ein for key e is 0.009910000000000002\n"
     ]
    }
   ],
   "source": [
    "def ex1():\n",
    "    def run(N = 1000, delta = 0.1, d = 8):\n",
    "        return (delta**2) * (1-(d+1)/N)\n",
    "\n",
    "    N = [10, 25, 100, 500, 1000]\n",
    "    keys = ['a', 'b', 'c', 'd', 'e']\n",
    "    for n in N:\n",
    "        print(\"Ein for key {} is {}\".format(keys[N.index(n)], run(N=n)))\n",
    "ex1()"
   ]
  },
  {
   "cell_type": "markdown",
   "metadata": {},
   "source": [
    "As observed from above, $E_{in}$ of **[c][d][e]** is larger than 0.008 and **[c]**.100 is the smallest N. Alternative **[c]**."
   ]
  },
  {
   "cell_type": "markdown",
   "metadata": {},
   "source": [
    "## Exercise 2  \n",
    "The hyperbola equation in 2-dimensional space is:\n",
    "$$\n",
    "\\frac{x^2}{a^2} - \\frac{y^2}{b^2} = 1\n",
    "$$\n",
    "The added zeroth coordinate is not counted, so the $w_1$ and $w_2$ are $\\frac{1}{a^2}$ and $-\\frac{1}{b^2}$, respectively.  \n",
    "We have $\\frac{1}{a^2} > 0$ and $-\\frac{1}{b^2} < 0$ for any $a$ and $b$. So alternative **[c]**."
   ]
  },
  {
   "cell_type": "markdown",
   "metadata": {},
   "source": [
    "## Exercise 3  \n",
    "*The smallest value among the following choices that is not smaller than the VC dimension.*  \n",
    "Can be intepret as:\n",
    "$$\n",
    "min(ans_{[a]}^{[e]}) \\ge d_{VC}\n",
    "$$\n",
    "$\\Phi$ gives us 14 features, $\\~{d} = 14$, so $d_{VC} \\le \\~{d} + 1 = 15$. In case $d_{VC} = 15$, the answer will be **[c]**. So we can remove [d] and [e] out of availabe choices."
   ]
  },
  {
   "cell_type": "code",
   "execution_count": 3,
   "metadata": {},
   "outputs": [],
   "source": [
    "import itertools\n",
    "import numpy as np"
   ]
  },
  {
   "cell_type": "code",
   "execution_count": 53,
   "metadata": {},
   "outputs": [
    {
     "name": "stdout",
     "output_type": "stream",
     "text": [
      "Transformation to Z can shatter 6 points.\n",
      "Transformation to Z can shatter 15 points.\n",
      "Transformation to Z cannot shatter 16 points.\n"
     ]
    }
   ],
   "source": [
    "def shatter(N):\n",
    "\n",
    "    # Generate 2^N dichotomies\n",
    "    def generate_dichotomies(N):\n",
    "        lst = [list(i) for i in itertools.product([-1, 1], repeat=N)]\n",
    "        return lst\n",
    "    \n",
    "    # Generate N random points\n",
    "    x1 = np.random.uniform(0, 10, N)\n",
    "    x2 = np.random.uniform(0, 10, N)\n",
    "\n",
    "    # Transform to Z space\n",
    "    Z = np.array([np.ones(N), x1, x2, \n",
    "                  x1**2, x1*x2, x2**2,\n",
    "                  x1**3, x1**2*x2, x1*(x2**2), x2**3,\n",
    "                  x1**4, x1**3*x2, x1**2*(x2**2), x1*(x2**3), x2**4]).T\n",
    "    \n",
    "    # Calculate Z dagger\n",
    "    Z_dagger = np.linalg.pinv(Z)\n",
    "\n",
    "    count = 0\n",
    "    for y in generate_dichotomies(N):\n",
    "        y = np.array(y)[:, np.newaxis]\n",
    "        w = Z_dagger @ y\n",
    "\n",
    "        # Check can w separate correctly\n",
    "        y_pred = np.sign(Z @ w)\n",
    "        if (np.all(y_pred == y)):\n",
    "            count += 1\n",
    "    return count\n",
    "\n",
    "def ex3():\n",
    "    N = [6, 15, 16]\n",
    "\n",
    "    for n in N:\n",
    "        if shatter(n) == 2**n:\n",
    "            print(\"Transformation to Z can shatter\",n,\"points.\")\n",
    "        else:\n",
    "            print(\"Transformation to Z cannot shatter\",n,\"points.\")\n",
    "ex3()"
   ]
  },
  {
   "cell_type": "markdown",
   "metadata": {},
   "source": [
    "As you can observe, not only 6 point, we can shatter even to 15 point. So the $d_{VC} = 15$ for this case and the answer is **[c]**"
   ]
  },
  {
   "cell_type": "markdown",
   "metadata": {},
   "source": [
    "## Exercise 4"
   ]
  }
 ],
 "metadata": {
  "kernelspec": {
   "display_name": "Python 3",
   "language": "python",
   "name": "python3"
  },
  "language_info": {
   "codemirror_mode": {
    "name": "ipython",
    "version": 3
   },
   "file_extension": ".py",
   "mimetype": "text/x-python",
   "name": "python",
   "nbconvert_exporter": "python",
   "pygments_lexer": "ipython3",
   "version": "3.11.0"
  }
 },
 "nbformat": 4,
 "nbformat_minor": 2
}
