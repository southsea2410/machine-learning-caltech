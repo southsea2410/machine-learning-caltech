{
 "cells": [
  {
   "cell_type": "markdown",
   "metadata": {},
   "source": [
    "# Homework 5\n",
    "\n",
    "**StudentID**: 21127113  \n",
    "**Name**: Dinh Duong Hai Nam"
   ]
  },
  {
   "cell_type": "code",
   "execution_count": 3,
   "metadata": {},
   "outputs": [],
   "source": [
    "import numpy as np\n",
    "import matplotlib.pyplot as plt"
   ]
  },
  {
   "cell_type": "markdown",
   "metadata": {},
   "source": [
    "## Exercise 1"
   ]
  },
  {
   "cell_type": "code",
   "execution_count": 4,
   "metadata": {},
   "outputs": [
    {
     "name": "stdout",
     "output_type": "stream",
     "text": [
      "Ein for key a is 0.001\n",
      "Ein for key b is 0.006400000000000001\n",
      "Ein for key c is 0.009100000000000002\n",
      "Ein for key d is 0.009820000000000002\n",
      "Ein for key e is 0.009910000000000002\n"
     ]
    }
   ],
   "source": [
    "def ex1():\n",
    "    def run(N = 1000, delta = 0.1, d = 8):\n",
    "        return (delta**2) * (1-(d+1)/N)\n",
    "\n",
    "    N = [10, 25, 100, 500, 1000]\n",
    "    keys = ['a', 'b', 'c', 'd', 'e']\n",
    "    for n in N:\n",
    "        print(\"Ein for key {} is {}\".format(keys[N.index(n)], run(N=n)))\n",
    "ex1()"
   ]
  },
  {
   "cell_type": "markdown",
   "metadata": {},
   "source": [
    "As observed from above, $E_{in}$ of **[c][d][e]** is larger than 0.008 and **[c]**.100 is the smallest N. Alternative **[c]**."
   ]
  },
  {
   "cell_type": "markdown",
   "metadata": {},
   "source": [
    "## Exercise 2  \n",
    "The hyperbola equation in 2-dimensional space is:\n",
    "$$\n",
    "\\frac{x^2}{a^2} - \\frac{y^2}{b^2} = 1\n",
    "$$\n",
    "The added zeroth coordinate is not counted, so the $w_1$ and $w_2$ are $\\frac{1}{a^2}$ and $-\\frac{1}{b^2}$, respectively.  \n",
    "We have $\\frac{1}{a^2} > 0$ and $-\\frac{1}{b^2} < 0$ for any $a$ and $b$. So alternative **[c]**."
   ]
  },
  {
   "cell_type": "markdown",
   "metadata": {},
   "source": [
    "## Exercise 3  \n",
    "*The smallest value among the following choices that is not smaller than the VC dimension.*  \n",
    "Can be intepret as:\n",
    "$$\n",
    "min(ans_{[a]}^{[e]}) \\ge d_{VC}\n",
    "$$\n",
    "$\\Phi$ gives us 14 features, $\\~{d} = 14$, so $d_{VC} \\le \\~{d} + 1 = 15$. In case $d_{VC} = 15$, the answer will be **[c]**. So we can remove [d] and [e] out of availabe choices."
   ]
  },
  {
   "cell_type": "code",
   "execution_count": 5,
   "metadata": {},
   "outputs": [],
   "source": [
    "import itertools\n",
    "import numpy as np\n",
    "import matplotlib.pyplot as plt"
   ]
  },
  {
   "cell_type": "code",
   "execution_count": 6,
   "metadata": {},
   "outputs": [
    {
     "name": "stdout",
     "output_type": "stream",
     "text": [
      "Transformation to Z can shatter 6 points.\n",
      "Transformation to Z can shatter 15 points.\n",
      "Transformation to Z cannot shatter 16 points.\n"
     ]
    }
   ],
   "source": [
    "def shatter(N):\n",
    "\n",
    "    # Generate 2^N dichotomies\n",
    "    def generate_dichotomies(N):\n",
    "        lst = [list(i) for i in itertools.product([-1, 1], repeat=N)]\n",
    "        return lst\n",
    "    \n",
    "    # Generate N random points\n",
    "    x1 = np.random.uniform(0, 10, N)\n",
    "    x2 = np.random.uniform(0, 10, N)\n",
    "\n",
    "    # Transform to Z space\n",
    "    Z = np.array([np.ones(N), x1, x2, \n",
    "                  x1**2, x1*x2, x2**2,\n",
    "                  x1**3, x1**2*x2, x1*(x2**2), x2**3,\n",
    "                  x1**4, x1**3*x2, x1**2*(x2**2), x1*(x2**3), x2**4]).T\n",
    "    \n",
    "    # Calculate Z dagger\n",
    "    Z_dagger = np.linalg.pinv(Z)\n",
    "\n",
    "    count = 0\n",
    "    for y in generate_dichotomies(N):\n",
    "        y = np.array(y)[:, np.newaxis]\n",
    "        w = Z_dagger @ y\n",
    "\n",
    "        # Check can w separate correctly\n",
    "        y_pred = np.sign(Z @ w)\n",
    "        if (np.all(y_pred == y)):\n",
    "            count += 1\n",
    "    return count\n",
    "\n",
    "def ex3():\n",
    "    N = [6, 15, 16]\n",
    "\n",
    "    for n in N:\n",
    "        if shatter(n) == 2**n:\n",
    "            print(\"Transformation to Z can shatter\",n,\"points.\")\n",
    "        else:\n",
    "            print(\"Transformation to Z cannot shatter\",n,\"points.\")\n",
    "ex3()"
   ]
  },
  {
   "cell_type": "markdown",
   "metadata": {},
   "source": [
    "As you can observe, not only 6 point, we can shatter even to 15 point. So the $d_{VC} = 15$ for this case and the answer is **[c]**"
   ]
  },
  {
   "cell_type": "markdown",
   "metadata": {},
   "source": [
    "## Exercise \n",
    "\n",
    "Derive from $E(u,v) = (ue^v - 2ve^{-u})^2$, we get:"
   ]
  },
  {
   "cell_type": "markdown",
   "metadata": {},
   "source": [
    "$$\n",
    "\\begin{align*}\n",
    "\\frac{∂E}{∂u} &= 2(ue^v - 2ve^{-u})^{'}(ue^v - 2ve^{-u})\\\\\n",
    "\\\\\n",
    "\\frac{∂E}{∂u} &= 2(e^v - 2v(e^{-u})^{'})(ue^v - 2ve^{-u})\\\\\n",
    "\\\\\n",
    "\\frac{∂E}{∂u} &= 2(e^v + 2ve^{-u})(ue^v - 2ve^{-u})\n",
    "\\end{align*}\n",
    "$$"
   ]
  },
  {
   "cell_type": "markdown",
   "metadata": {},
   "source": [
    "Alternative **[e]**"
   ]
  },
  {
   "cell_type": "markdown",
   "metadata": {},
   "source": [
    "## Exercise 5"
   ]
  },
  {
   "cell_type": "markdown",
   "metadata": {},
   "source": [
    "Calculate partial deriavtive by v:\n",
    "$$\n",
    "\\begin{align*}\n",
    "\\frac{∂E}{∂v} &= 2(ue^v - 2ve^{-u})^{'}(ue^v - 2ve^{-u})\\\\\n",
    "\\\\\n",
    "\\frac{∂E}{∂v} &= 2(ue^v - 2e^{-u})(ue^v - 2ve^{-u})\\\\\n",
    "\\end{align*}\n",
    "$$"
   ]
  },
  {
   "cell_type": "code",
   "execution_count": 7,
   "metadata": {},
   "outputs": [
    {
     "name": "stdout",
     "output_type": "stream",
     "text": [
      "The minimum number of iterations is 10\n"
     ]
    }
   ],
   "source": [
    "def ex5():\n",
    "    def E(u, v):\n",
    "        return (u*np.exp(v) - 2*v*np.exp(-u))**2\n",
    "    \n",
    "    def dE_du(u, v):\n",
    "        return 2 * (u * np.exp(v) - 2*v*np.exp(-u)) * (np.exp(v) + 2*v*np.exp(-u))\n",
    "\n",
    "    def dE_dv(u, v):\n",
    "        return 2 * (u * np.exp(v) - 2*v*np.exp(-u)) * (u*np.exp(v) - 2*np.exp(-u))\n",
    "\n",
    "    def gradientDescent(u = 1, v = 1, eta = 0.1, iters = 17):\n",
    "        x = [u, v]\n",
    "        err = E(u, v)\n",
    "\n",
    "        for i in range(iters):\n",
    "            u, v = x\n",
    "\n",
    "            x[0] = u - eta*dE_du(u, v)\n",
    "            x[1] = v - eta*dE_dv(u, v)\n",
    "\n",
    "            err = E(x[0], x[1])\n",
    "            if (err < 1e-14):\n",
    "                break\n",
    "\n",
    "        return i, err, (u, v)\n",
    "    \n",
    "    return gradientDescent()\n",
    "\n",
    "print('The minimum number of iterations is', ex5()[0] + 1)"
   ]
  },
  {
   "cell_type": "markdown",
   "metadata": {},
   "source": [
    "Alternative **[d]**"
   ]
  },
  {
   "cell_type": "markdown",
   "metadata": {},
   "source": [
    "## Exercise 6"
   ]
  },
  {
   "cell_type": "code",
   "execution_count": 8,
   "metadata": {},
   "outputs": [
    {
     "name": "stdout",
     "output_type": "stream",
     "text": [
      "Distance from point [1, 1] to  [0.04473639 0.02395854]  is 1.4142135623730951\n",
      "Distance from point [0.713, 0.045] to  [0.04473639 0.02395854]  is 0.7144186447734969\n",
      "Distance from point [0.016, 0.112] to  [0.04473639 0.02395854]  is 0.1131370849898476\n",
      "Distance from point [-0.083, 0.029] to  [0.04473639 0.02395854]  is 0.08792041856133308\n",
      "Distance from point [0.045, 0.024] to  [0.04473639 0.02395854]  is 0.051\n"
     ]
    }
   ],
   "source": [
    "def ex6():\n",
    "    _, _, (u, v) = ex5()\n",
    "    minPoint = np.array((u, v))\n",
    "\n",
    "    points = [[1,1],\n",
    "              [0.713, 0.045],\n",
    "              [0.016, 0.112],\n",
    "              [-0.083, 0.029],\n",
    "              [0.045, 0.024]]\n",
    "    \n",
    "    def EuclideanDistance(point1, point2):\n",
    "        return np.sqrt((point1[0]-point2[0])**2 + (point1[1]-point2[1])**2)\n",
    "    \n",
    "    for point in points:\n",
    "        print(\"Distance from point\",point,\"to \",minPoint,\" is\",EuclideanDistance(point, [0,0]))\n",
    "    \n",
    "ex6()"
   ]
  },
  {
   "cell_type": "markdown",
   "metadata": {},
   "source": [
    "The minimum is **[e]**"
   ]
  },
  {
   "cell_type": "markdown",
   "metadata": {},
   "source": [
    "## Exercise 7"
   ]
  },
  {
   "cell_type": "code",
   "execution_count": 12,
   "metadata": {},
   "outputs": [
    {
     "name": "stdout",
     "output_type": "stream",
     "text": [
      "The error after 15 iterations is 0.13981379199615315\n"
     ]
    }
   ],
   "source": [
    "def ex7():\n",
    "    def E(u, v):\n",
    "        return (u*np.exp(v) - 2*v*np.exp(-u))**2\n",
    "    \n",
    "    def dE_du(u, v):\n",
    "        return 2 * (u * np.exp(v) - 2*v*np.exp(-u)) * (np.exp(v) + 2*v*np.exp(-u))\n",
    "\n",
    "    def dE_dv(u, v):\n",
    "        return 2 * (u * np.exp(v) - 2*v*np.exp(-u)) * (u*np.exp(v) - 2*np.exp(-u))\n",
    "\n",
    "    def gradientDescent(u = 1, v = 1, eta = 0.1, iters = 15):\n",
    "        err = E(u, v)\n",
    "\n",
    "        for i in range(iters):\n",
    "            # Calcutate new u\n",
    "            u = u - eta*dE_du(u, v)\n",
    "\n",
    "            # Calculate new v (using new u)\n",
    "            v = v - eta*dE_dv(u, v)\n",
    "\n",
    "        return i, E(u, v)\n",
    "    \n",
    "    return gradientDescent()\n",
    "\n",
    "print('The error after 15 iterations is', ex7()[1])"
   ]
  },
  {
   "cell_type": "markdown",
   "metadata": {},
   "source": [
    "Alternative **[a]**"
   ]
  },
  {
   "cell_type": "markdown",
   "metadata": {},
   "source": [
    "## Exercise 8"
   ]
  }
 ],
 "metadata": {
  "kernelspec": {
   "display_name": "Python 3",
   "language": "python",
   "name": "python3"
  },
  "language_info": {
   "codemirror_mode": {
    "name": "ipython",
    "version": 3
   },
   "file_extension": ".py",
   "mimetype": "text/x-python",
   "name": "python",
   "nbconvert_exporter": "python",
   "pygments_lexer": "ipython3",
   "version": "3.11.0"
  }
 },
 "nbformat": 4,
 "nbformat_minor": 2
}
